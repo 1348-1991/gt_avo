{
 "cells": [
  {
   "cell_type": "markdown",
   "id": "4bcfd5e8",
   "metadata": {},
   "source": [
    "### APSIS Fase II - Sísmica de Reflexão - Python - Vitor Azevedo"
   ]
  },
  {
   "cell_type": "markdown",
   "id": "552e8051",
   "metadata": {},
   "source": [
    "## Exercicio Efetivo\n",
    "\n",
    "### Estudar os principios básicos indicados nas Referencias Bibliográficas\n",
    "\n",
    "> Aki, K. I., and Richards, P. G., 1980, Quantitative seismology: W. H. Freeman and Co.\n",
    "\n",
    "> Chopra, S., & Castagna, J. P., 2014. Avo. Society of Exploration Geophysicists.\n",
    "\n",
    "> Shuey,R.T., 1985, A simplification of Zoeppritz equations: Geophysics, 50, 609–614.\n",
    "\n",
    "> Smith, G. C. and Gidlow, P. M., 1987. Weighted stacking for rock property estimation and detection of gas: Geophys. Prosp., 35, 993–1014.\n",
    "\n",
    "### E possuir Links de repositórios a seguir:\n",
    "> https://github.com/aadm/geophysical_notes\n",
    "\n",
    "> https://github.com/aadm/avo_explorer\n",
    "\n",
    "> https://github.com/agile-geoscience/bruges\n",
    "\n",
    "> https://github.com/sconten/rppy"
   ]
  },
  {
   "cell_type": "markdown",
   "id": "a3ed1ffe",
   "metadata": {},
   "source": [
    "### Gerar código idêntico descrito a seguir, para rodar no Google Colab, todo o procedimento abaixo:\n",
    "\n",
    "import numpy as np\n",
    "\n",
    "import matplotlib.pyplot as plt\n",
    "\n",
    "from IPython.display import Image\n",
    "\n",
    "import avo_func as avo\n",
    "\n",
    "%matplotlib inline\n",
    "\n",
    "### Considere iniclamente as imagens abaixo número 2 e 3 do trabalho de Smith e Giglow (1987).\n",
    "### Use a aproximaçao de Aki and Richard (1980) e Shuey (1985).\n",
    "Image(filename='fig2_3_smith_gidlow_1987.png', width=500)"
   ]
  },
  {
   "cell_type": "raw",
   "id": "39e38b6d",
   "metadata": {},
   "source": [
    "# CÓDIGO ORIGINAL DE REFERÊNCIA:\n",
    "#define the properties\n",
    "\n",
    "vp1,vs1,rho1 = 3100,1500,2.42 #shale\n",
    "vp2,vs2,rho2 = 3000,1414,2.4 #gas\n",
    "angle = np.arange(0,66,1)\n",
    "\n",
    "#approximations at the top\n",
    "I,G,shuey2,shuey3 = avo.shuey(vp1,vs1,rho1,vp2,vs2,rho2,angle)\n",
    "aki = avo.akirichards(vp1,vs1,rho1,vp2,vs2,rho2,angle)\n",
    "\n",
    "#approximations at the base\n",
    "Ib,Gb,shuey2b,shuey3b = avo.shuey(vp2,vs2,rho2,vp1,vs1,rho1,angle)\n",
    "akib = avo.akirichards(vp2,vs2,rho2,vp1,vs1,rho1,angle)\n",
    "\n",
    "mxplot=0.04\n",
    "\n",
    "fig=plt.figure(figsize=(7,6))\n",
    "ax=plt.subplot(1,1,1)\n",
    "\n",
    "plt.plot(angle,aki,'-',color='darkorange',label='Aki and Richard',linewidth=2)\n",
    "plt.plot(angle,shuey3,'--',color='blue',label='Shuey 3',linewidth=2)\n",
    "plt.plot(angle,shuey2,'--',color='red',label='Shuey 2 -top',linewidth=2)\n",
    "plt.plot(angle,akib,'-',color='darkorange',linewidth=2)\n",
    "plt.plot(angle,shuey3b,'--',color='blue',linewidth=2)\n",
    "plt.plot(angle,shuey2b,'--',color='green',label='Shuey 2 -base',linewidth=2)\n",
    "\n",
    "ax.legend(loc='upper center', bbox_to_anchor=(0.5, 1.09),ncol=4)\n",
    "plt.axhline(0, color='k')\n",
    "ax.set_xlabel('angle ($\\\\theta$)')\n",
    "ax.set_ylabel('R($\\\\theta$)')\n",
    "yt=np.linspace(-mxplot,mxplot,9)\n",
    "plt.yticks(yt)\n",
    "plt.xlim(0.,np.max(angle-1))\n",
    "plt.ylim(-mxplot,mxplot)\n",
    "plt.grid()\n",
    "plt.tight_layout()"
   ]
  },
  {
   "cell_type": "markdown",
   "id": "576c014c",
   "metadata": {},
   "source": [
    "## Aproximações Aki-Richards e Shuey:"
   ]
  },
  {
   "cell_type": "code",
   "execution_count": 7,
   "id": "6ff88738",
   "metadata": {},
   "outputs": [
    {
     "name": "stderr",
     "output_type": "stream",
     "text": [
      "Cloning into 'avo_explorer'...\n",
      "Cloning into 'geophysical_notes'...\n",
      "Updating files:  41% (57/138)\n",
      "Updating files:  42% (58/138)\n",
      "Updating files:  43% (60/138)\n",
      "Updating files:  44% (61/138)\n",
      "Updating files:  45% (63/138)\n",
      "Updating files:  46% (64/138)\n",
      "Updating files:  47% (65/138)\n",
      "Updating files:  48% (67/138)\n",
      "Updating files:  49% (68/138)\n",
      "Updating files:  50% (69/138)\n",
      "Updating files:  51% (71/138)\n",
      "Updating files:  52% (72/138)\n",
      "Updating files:  53% (74/138)\n",
      "Updating files:  54% (75/138)\n",
      "Updating files:  55% (76/138)\n",
      "Updating files:  56% (78/138)\n",
      "Updating files:  57% (79/138)\n",
      "Updating files:  58% (81/138)\n",
      "Updating files:  59% (82/138)\n",
      "Updating files:  60% (83/138)\n",
      "Updating files:  61% (85/138)\n",
      "Updating files:  62% (86/138)\n",
      "Updating files:  63% (87/138)\n",
      "Updating files:  64% (89/138)\n",
      "Updating files:  65% (90/138)\n",
      "Updating files:  66% (92/138)\n",
      "Updating files:  67% (93/138)\n",
      "Updating files:  68% (94/138)\n",
      "Updating files:  68% (95/138)\n",
      "Updating files:  69% (96/138)\n",
      "Updating files:  70% (97/138)\n",
      "Updating files:  71% (98/138)\n",
      "Updating files:  72% (100/138)\n",
      "Updating files:  73% (101/138)\n",
      "Updating files:  74% (103/138)\n",
      "Updating files:  75% (104/138)\n",
      "Updating files:  76% (105/138)\n",
      "Updating files:  77% (107/138)\n",
      "Updating files:  78% (108/138)\n",
      "Updating files:  79% (110/138)\n",
      "Updating files:  80% (111/138)\n",
      "Updating files:  81% (112/138)\n",
      "Updating files:  82% (114/138)\n",
      "Updating files:  83% (115/138)\n",
      "Updating files:  84% (116/138)\n",
      "Updating files:  85% (118/138)\n",
      "Updating files:  86% (119/138)\n",
      "Updating files:  87% (121/138)\n",
      "Updating files:  88% (122/138)\n",
      "Updating files:  89% (123/138)\n",
      "Updating files:  90% (125/138)\n",
      "Updating files:  91% (126/138)\n",
      "Updating files:  92% (127/138)\n",
      "Updating files:  93% (129/138)\n",
      "Updating files:  94% (130/138)\n",
      "Updating files:  95% (132/138)\n",
      "Updating files:  96% (133/138)\n",
      "Updating files:  97% (134/138)\n",
      "Updating files:  98% (136/138)\n",
      "Updating files:  99% (137/138)\n",
      "Updating files: 100% (138/138)\n",
      "Updating files: 100% (138/138), done.\n",
      "Cloning into 'bruges'...\n",
      "Cloning into 'rppy'...\n"
     ]
    }
   ],
   "source": [
    "# CLONAGEM DE REPOSITÓRIO:\n",
    "!git clone https://github.com/aadm/avo_explorer.git\n",
    "!git clone https://github.com/aadm/geophysical_notes.git\n",
    "!git clone https://github.com/agilescientific/bruges.git\n",
    "!git clone https://github.com/sconten/rppy.git"
   ]
  },
  {
   "cell_type": "code",
   "execution_count": 14,
   "id": "bca34cc8",
   "metadata": {},
   "outputs": [
    {
     "name": "stdout",
     "output_type": "stream",
     "text": [
      "C:\\Users\\Musa Deck\n"
     ]
    }
   ],
   "source": [
    "# VERIFICANDO LOCAL DE TRABALHO:\n",
    "%cd"
   ]
  },
  {
   "cell_type": "code",
   "execution_count": 15,
   "id": "1d4ecdff",
   "metadata": {},
   "outputs": [
    {
     "name": "stdout",
     "output_type": "stream",
     "text": [
      "C:\\Users\\Musa Deck\\Documents\\PYTHON\\APSIS\n"
     ]
    }
   ],
   "source": [
    "%cd Documents/PYTHON/APSIS"
   ]
  },
  {
   "cell_type": "code",
   "execution_count": 16,
   "id": "8046f8d9",
   "metadata": {},
   "outputs": [
    {
     "name": "stdout",
     "output_type": "stream",
     "text": [
      "[WinError 2] The system cannot find the file specified: '/avo_explorer/'\n",
      "C:\\Users\\Musa Deck\\Documents\\PYTHON\\APSIS\n",
      "Defaulting to user installation because normal site-packages is not writeable\n",
      "Obtaining file:///C:/Users/Musa%20Deck/Documents/PYTHON/APSIS\n",
      "[WinError 2] The system cannot find the file specified: '/geophysical_notes/'\n",
      "C:\\Users\\Musa Deck\\Documents\\PYTHON\\APSIS\n"
     ]
    },
    {
     "name": "stderr",
     "output_type": "stream",
     "text": [
      "ERROR: file:///C:/Users/Musa%20Deck/Documents/PYTHON/APSIS does not appear to be a Python project: neither 'setup.py' nor 'pyproject.toml' found.\n"
     ]
    },
    {
     "name": "stdout",
     "output_type": "stream",
     "text": [
      "Defaulting to user installation because normal site-packages is not writeable\n",
      "Obtaining file:///C:/Users/Musa%20Deck/Documents/PYTHON/APSIS\n",
      "[WinError 2] The system cannot find the file specified: '/bruges/'\n",
      "C:\\Users\\Musa Deck\\Documents\\PYTHON\\APSIS\n"
     ]
    },
    {
     "name": "stderr",
     "output_type": "stream",
     "text": [
      "ERROR: file:///C:/Users/Musa%20Deck/Documents/PYTHON/APSIS does not appear to be a Python project: neither 'setup.py' nor 'pyproject.toml' found.\n"
     ]
    },
    {
     "name": "stdout",
     "output_type": "stream",
     "text": [
      "Defaulting to user installation because normal site-packages is not writeable\n",
      "Obtaining file:///C:/Users/Musa%20Deck/Documents/PYTHON/APSIS\n",
      "[WinError 2] The system cannot find the file specified: '/rppy/'\n",
      "C:\\Users\\Musa Deck\\Documents\\PYTHON\\APSIS\n"
     ]
    },
    {
     "name": "stderr",
     "output_type": "stream",
     "text": [
      "ERROR: file:///C:/Users/Musa%20Deck/Documents/PYTHON/APSIS does not appear to be a Python project: neither 'setup.py' nor 'pyproject.toml' found.\n"
     ]
    },
    {
     "name": "stdout",
     "output_type": "stream",
     "text": [
      "Defaulting to user installation because normal site-packages is not writeable\n",
      "Obtaining file:///C:/Users/Musa%20Deck/Documents/PYTHON/APSIS\n"
     ]
    },
    {
     "name": "stderr",
     "output_type": "stream",
     "text": [
      "ERROR: file:///C:/Users/Musa%20Deck/Documents/PYTHON/APSIS does not appear to be a Python project: neither 'setup.py' nor 'pyproject.toml' found.\n"
     ]
    }
   ],
   "source": [
    "# INSTALANDO MÓDULOS:\n",
    "\n",
    "import sys\n",
    "import os\n",
    "\n",
    "# Get the absolute path of the avo_explorer directory\n",
    "avo_explorer_dir = os.path.abspath('avo_explorer')\n",
    "\n",
    "# Add the avo_explorer directory to the Python path\n",
    "if avo_explorer_dir not in sys.path:\n",
    "    sys.path.append(avo_explorer_dir)\n",
    "    # This ensures Python can find the avo_explorer_library module\n",
    "\n",
    "\n",
    "# Instalando Módulo avo_explorer_library.py = avo_func !!!!\n",
    "%cd /avo_explorer/\n",
    "!pip install -e .\n",
    "\n",
    "%cd /geophysical_notes/\n",
    "!pip install -e .\n",
    "\n",
    "%cd /bruges/\n",
    "!pip install -e .\n",
    "\n",
    "%cd /rppy/\n",
    "!pip install -e .\n",
    "\n",
    "# Não encontrei módulo que contenha função para Aki-Richards Então defini manualmente a função"
   ]
  },
  {
   "cell_type": "code",
   "execution_count": 9,
   "id": "b9fe60bd",
   "metadata": {},
   "outputs": [
    {
     "ename": "ModuleNotFoundError",
     "evalue": "No module named 'avo_explorer_library'",
     "output_type": "error",
     "traceback": [
      "\u001b[1;31m---------------------------------------------------------------------------\u001b[0m",
      "\u001b[1;31mModuleNotFoundError\u001b[0m                       Traceback (most recent call last)",
      "\u001b[1;32m~\\AppData\\Local\\Temp\\ipykernel_2840\\3995827245.py\u001b[0m in \u001b[0;36m<module>\u001b[1;34m\u001b[0m\n\u001b[0;32m      4\u001b[0m \u001b[1;32mfrom\u001b[0m \u001b[0mIPython\u001b[0m\u001b[1;33m.\u001b[0m\u001b[0mdisplay\u001b[0m \u001b[1;32mimport\u001b[0m \u001b[0mImage\u001b[0m\u001b[1;33m\u001b[0m\u001b[1;33m\u001b[0m\u001b[0m\n\u001b[0;32m      5\u001b[0m \u001b[1;31m# import avo_func as avo\u001b[0m\u001b[1;33m\u001b[0m\u001b[1;33m\u001b[0m\u001b[0m\n\u001b[1;32m----> 6\u001b[1;33m \u001b[1;32mimport\u001b[0m \u001b[0mavo_explorer_library\u001b[0m \u001b[1;32mas\u001b[0m \u001b[0mavo\u001b[0m\u001b[1;33m\u001b[0m\u001b[1;33m\u001b[0m\u001b[0m\n\u001b[0m\u001b[0;32m      7\u001b[0m \u001b[0mget_ipython\u001b[0m\u001b[1;33m(\u001b[0m\u001b[1;33m)\u001b[0m\u001b[1;33m.\u001b[0m\u001b[0mrun_line_magic\u001b[0m\u001b[1;33m(\u001b[0m\u001b[1;34m'matplotlib'\u001b[0m\u001b[1;33m,\u001b[0m \u001b[1;34m'inline'\u001b[0m\u001b[1;33m)\u001b[0m\u001b[1;33m\u001b[0m\u001b[1;33m\u001b[0m\u001b[0m\n",
      "\u001b[1;31mModuleNotFoundError\u001b[0m: No module named 'avo_explorer_library'"
     ]
    }
   ],
   "source": [
    "# BIBLIOTECAS NECESSÁRIAS:\n",
    "import numpy as np\n",
    "import matplotlib.pyplot as plt\n",
    "from IPython.display import Image\n",
    "# import avo_func as avo\n",
    "import avo_explorer_library as avo\n",
    "%matplotlib inline"
   ]
  },
  {
   "cell_type": "code",
   "execution_count": null,
   "id": "2cf78059",
   "metadata": {},
   "outputs": [],
   "source": [
    "# DEFININDO AKI-RICHARDS:\n",
    "\n",
    "import numpy as np\n",
    "\n",
    "def akirichards(vp1, vs1, rho1, vp2, vs2, rho2, theta):\n",
    "\n",
    "  # Converte o ângulo de incidência para radianos\n",
    "  theta_rad = np.deg2rad(theta)\n",
    "\n",
    "  # Calcula os termos intermediários\n",
    "  dvp = vp2 - vp1\n",
    "  dvs = vs2 - vs1\n",
    "  drho = rho2 - rho1\n",
    "  vp_avg = (vp1 + vp2) / 2\n",
    "  vs_avg = (vs1 + vs2) / 2\n",
    "  rho_avg = (rho1 + rho2) / 2\n",
    "\n",
    "  # Calcula o coeficiente de reflexão de Aki-Richards: R\n",
    "  R0 = 0.5 * (dvp / vp_avg + drho / rho_avg) # Interceptação (ângulo zero)\n",
    "  G = 0.5 * (dvp / vp_avg - 4 * (vs_avg**2 / vp_avg**2) * (dvs / vs_avg + drho / rho_avg)) # Gradiente\n",
    "\n",
    "  R = R0 + G * np.sin(theta_rad)**2 # Verificar de novo SHUEY 1985 !!\n",
    "\n",
    "  return R"
   ]
  },
  {
   "cell_type": "code",
   "execution_count": null,
   "id": "f5e2f190",
   "metadata": {},
   "outputs": [],
   "source": [
    "# VERIFICANDO MÓDULOS PRESENTES:\n",
    "print(dir(avo))"
   ]
  },
  {
   "cell_type": "code",
   "execution_count": null,
   "id": "e5f90d38",
   "metadata": {},
   "outputs": [],
   "source": [
    "# TESTANDO DISPONIBILIDADE:\n",
    "avo"
   ]
  },
  {
   "cell_type": "code",
   "execution_count": null,
   "id": "976a1b92",
   "metadata": {},
   "outputs": [],
   "source": [
    "# TESTANDO DISPONIBILIDADE:\n",
    "akirichards"
   ]
  },
  {
   "cell_type": "code",
   "execution_count": 5,
   "id": "8f07c944",
   "metadata": {},
   "outputs": [
    {
     "ename": "NameError",
     "evalue": "name 'np' is not defined",
     "output_type": "error",
     "traceback": [
      "\u001b[1;31m---------------------------------------------------------------------------\u001b[0m",
      "\u001b[1;31mNameError\u001b[0m                                 Traceback (most recent call last)",
      "\u001b[1;32m~\\AppData\\Local\\Temp\\ipykernel_2840\\1669287041.py\u001b[0m in \u001b[0;36m<module>\u001b[1;34m\u001b[0m\n\u001b[0;32m      5\u001b[0m \u001b[0mvp1\u001b[0m\u001b[1;33m,\u001b[0m\u001b[0mvs1\u001b[0m\u001b[1;33m,\u001b[0m\u001b[0mrho1\u001b[0m \u001b[1;33m=\u001b[0m \u001b[1;36m3100\u001b[0m\u001b[1;33m,\u001b[0m\u001b[1;36m1500\u001b[0m\u001b[1;33m,\u001b[0m\u001b[1;36m2.42\u001b[0m \u001b[1;31m#shale\u001b[0m\u001b[1;33m\u001b[0m\u001b[1;33m\u001b[0m\u001b[0m\n\u001b[0;32m      6\u001b[0m \u001b[0mvp2\u001b[0m\u001b[1;33m,\u001b[0m\u001b[0mvs2\u001b[0m\u001b[1;33m,\u001b[0m\u001b[0mrho2\u001b[0m \u001b[1;33m=\u001b[0m \u001b[1;36m3000\u001b[0m\u001b[1;33m,\u001b[0m\u001b[1;36m1414\u001b[0m\u001b[1;33m,\u001b[0m\u001b[1;36m2.4\u001b[0m \u001b[1;31m#gas\u001b[0m\u001b[1;33m\u001b[0m\u001b[1;33m\u001b[0m\u001b[0m\n\u001b[1;32m----> 7\u001b[1;33m \u001b[0mangle\u001b[0m \u001b[1;33m=\u001b[0m \u001b[0mnp\u001b[0m\u001b[1;33m.\u001b[0m\u001b[0marange\u001b[0m\u001b[1;33m(\u001b[0m\u001b[1;36m0\u001b[0m\u001b[1;33m,\u001b[0m\u001b[1;36m66\u001b[0m\u001b[1;33m,\u001b[0m\u001b[1;36m1\u001b[0m\u001b[1;33m)\u001b[0m\u001b[1;33m\u001b[0m\u001b[1;33m\u001b[0m\u001b[0m\n\u001b[0m\u001b[0;32m      8\u001b[0m \u001b[1;33m\u001b[0m\u001b[0m\n\u001b[0;32m      9\u001b[0m \u001b[1;33m\u001b[0m\u001b[0m\n",
      "\u001b[1;31mNameError\u001b[0m: name 'np' is not defined"
     ]
    }
   ],
   "source": [
    "# CÓDIGO:\n",
    "\n",
    "#define the properties\n",
    "\n",
    "vp1,vs1,rho1 = 3100,1500,2.42 #shale\n",
    "vp2,vs2,rho2 = 3000,1414,2.4 #gas\n",
    "angle = np.arange(0,66,1)\n",
    "\n",
    "#approximations at the top\n",
    "I,G,shuey2,shuey3 = avo.shuey(vp1,vs1,rho1,vp2,vs2,rho2,angle)\n",
    "aki = avo.akirichards(vp1,vs1,rho1,vp2,vs2,rho2,angle)\n",
    "\n",
    "#approximations at the base\n",
    "Ib,Gb,shuey2b,shuey3b = avo.shuey(vp2,vs2,rho2,vp1,vs1,rho1,angle)\n",
    "akib = avo.akirichards(vp2,vs2,rho2,vp1,vs1,rho1,angle)\n",
    "\n",
    "mxplot=0.04\n",
    "\n",
    "fig=plt.figure(figsize=(7,6))\n",
    "ax=plt.subplot(1,1,1)\n",
    "\n",
    "plt.plot(angle,aki,'-',color='darkorange',label='Aki and Richard',linewidth=2)\n",
    "plt.plot(angle,shuey3,'--',color='blue',label='Shuey 3',linewidth=2)\n",
    "plt.plot(angle,shuey2,'--',color='red',label='Shuey 2 -top',linewidth=2)\n",
    "plt.plot(angle,akib,'-',color='darkorange',linewidth=2)\n",
    "plt.plot(angle,shuey3b,'--',color='blue',linewidth=2)\n",
    "plt.plot(angle,shuey2b,'--',color='green',label='Shuey 2 -base',linewidth=2)\n",
    "\n",
    "ax.legend(loc='upper center', bbox_to_anchor=(0.5, 1.09),ncol=4)\n",
    "plt.axhline(0, color='k')\n",
    "ax.set_xlabel('angle ($\\\\theta$)')\n",
    "ax.set_ylabel('R($\\\\theta$)')\n",
    "yt=np.linspace(-mxplot,mxplot,9)\n",
    "plt.yticks(yt)\n",
    "plt.xlim(0.,np.max(angle-1))\n",
    "plt.ylim(-mxplot,mxplot)\n",
    "plt.grid()\n",
    "plt.tight_layout()"
   ]
  },
  {
   "cell_type": "code",
   "execution_count": null,
   "id": "32d2dd1e",
   "metadata": {},
   "outputs": [],
   "source": [
    "# CÓDIGO MODIFICADO:\n",
    "\n",
    "# DEFININCO PROPRIEDADES\n",
    "\n",
    "vp1,vs1,rho1 = 3100,1500,2.42 #shale\n",
    "vp2,vs2,rho2 = 3000,1414,2.4 #gas\n",
    "angle = np.arange(0,66,1) # Imput in Degrees !\n",
    "\n",
    "# APPROXIMATIONS AT THE TOP:\n",
    "aki = akirichards(vp1, vs1, rho1, vp2, vs2, rho2, angle)\n",
    "shuey2 = np.array([avo.shuey2(vp1,vs1,rho1,vp2,vs2,rho2,a) for a in angle])\n",
    "shuey3 = np.array([avo.shuey(vp1,vs1,rho1,vp2,vs2,rho2,a) for a in angle])\n",
    "\n",
    "# APPROXIMATIONS AT THE BASE:\n",
    "akib = akirichards(vp2,vs2,rho2,vp1,vs1,rho1,angle)\n",
    "shuey2b = np.array([avo.shuey2(vp2,vs2,rho2,vp1,vs1,rho1,a) for a in angle])\n",
    "shuey3b = np.array([avo.shuey(vp2,vs2,rho2,vp1,vs1,rho1,a) for a in angle])\n",
    "\n",
    "mxplot=0.04\n",
    "\n",
    "fig=plt.figure(figsize=(7,6))\n",
    "ax=plt.subplot(1,1,1)\n",
    "\n",
    "# AKI-RICHARD\n",
    "plt.plot(angle, aki,'-',color='darkorange',label='Aki and Richard',linewidth=5)\n",
    "plt.plot(angle, akib,'-',color='darkorange',linewidth=5)\n",
    "# SHUEY3\n",
    "plt.plot(angle, shuey3,'--',color='blue',label='Shuey 3',linewidth=4)\n",
    "plt.plot(angle, shuey3b,'--',color='blue',linewidth=4)\n",
    "# SHUEY2\n",
    "plt.plot(angle, shuey2,'--',color='red',label='Shuey 2 Top',linewidth=2)\n",
    "plt.plot(angle, shuey2b,'--',color='green',label='Shuey 2 Base',linewidth=2)\n",
    "\n",
    "ax.legend(loc='upper center', bbox_to_anchor=(0.5, 1.09),ncol=4)\n",
    "plt.axhline(0, color='k')\n",
    "ax.set_xlabel('angle ($\\\\theta$)')\n",
    "ax.set_ylabel('R($\\\\theta$)')\n",
    "yt=np.linspace(-mxplot,mxplot,9)\n",
    "plt.yticks(yt)\n",
    "plt.xlim(0.,np.max(angle-1))\n",
    "#plt.ylim(-mxplot,mxplot)\n",
    "plt.ylim(-0.05, 0.05)\n",
    "plt.grid()\n",
    "plt.tight_layout()"
   ]
  },
  {
   "cell_type": "code",
   "execution_count": null,
   "id": "89ff1f0c",
   "metadata": {},
   "outputs": [],
   "source": []
  },
  {
   "cell_type": "markdown",
   "id": "ea1ccb42",
   "metadata": {},
   "source": [
    "## Gráfico Intercept x Gradient de NI Offset Gather e Angle Gather:"
   ]
  },
  {
   "cell_type": "code",
   "execution_count": null,
   "id": "800753c5",
   "metadata": {},
   "outputs": [],
   "source": [
    "# CÓDIGO MODIFICADO:\n",
    "\n",
    "#define the properties\n",
    "vp1,vs1,rho1 = 3050,1245,2.4 #shale\n",
    "vp2,vs2,rho2 = 2440,1625,2.14 #gas\n",
    "angle = np.arange(0,51,1)\n",
    "\n",
    "# APPROXIMATIONS AT THE TOP:\n",
    "\n",
    "# I,G,shuey2,shuey3 = avo.shuey(vp1,vs1,rho1,vp2,vs2,rho2,angle)\n",
    "# I = np.array([avo.shuey(vp1,vs1,rho1,vp2,vs2,rho2,a) for a in angle])\n",
    "# G = np.array([avo.shuey(vp1,vs1,rho1,vp2,vs2,rho2,a) for a in angle])\n",
    "I = avo.shuey(vp1,vs1,rho1,vp2,vs2,rho2,angle)\n",
    "G = avo.shuey(vp1,vs1,rho1,vp2,vs2,rho2,angle)\n",
    "\n",
    "aki = akirichards(vp1, vs1, rho1, vp2, vs2, rho2, angle)\n",
    "shuey2 = np.array([avo.shuey2(vp1,vs1,rho1,vp2,vs2,rho2,a) for a in angle])\n",
    "shuey3 = np.array([avo.shuey(vp1,vs1,rho1,vp2,vs2,rho2,a) for a in angle])\n",
    "\n",
    "\n",
    "# APPROXIMATIONS AT THE BASE:\n",
    "\n",
    "#Ib,Gb,shuey2b,shuey3b = avo.shuey(vp2,vs2,rho2,vp1,vs1,rho1,angle)\n",
    "# Ib = np.array([avo.shuey(vp1,vs1,rho1,vp2,vs2,rho2,a) for a in angle])\n",
    "# Gb = np.array([avo.shuey(vp1,vs1,rho1,vp2,vs2,rho2,a) for a in angle])\n",
    "Ib = avo.shuey(vp1,vs1,rho1,vp2,vs2,rho2,angle)\n",
    "Gb = avo.shuey(vp1,vs1,rho1,vp2,vs2,rho2,angle)\n",
    "\n",
    "akib = akirichards(vp2,vs2,rho2,vp1,vs1,rho1,angle)\n",
    "shuey2b = np.array([avo.shuey2(vp2,vs2,rho2,vp1,vs1,rho1,a) for a in angle])\n",
    "shuey3b = np.array([avo.shuey(vp2,vs2,rho2,vp1,vs1,rho1,a) for a in angle])\n",
    "\n",
    "mxplot=1\n",
    "\n",
    "fig=plt.figure(figsize=(10,5))\n",
    "ax=plt.subplot(1,2,1)\n",
    "\n",
    "# AKI-RICHARDS\n",
    "plt.plot(angle,aki,'-',color='darkorange',label='Aki and Richard',linewidth=2)\n",
    "plt.plot(angle,akib,'-',color='darkorange',linewidth=2)\n",
    "# SHUEY3\n",
    "plt.plot(angle,shuey3,'--',color='blue',label='Shuey 3',linewidth=2)\n",
    "plt.plot(angle,shuey3b,'--',color='blue',linewidth=2)\n",
    "# SHUEY2\n",
    "plt.plot(angle,shuey2,'--',color='red',label='Shuey 2 Top',linewidth=2)\n",
    "plt.plot(angle,shuey2b,'--',color='green',label='Shuey 2 Base',linewidth=2)\n",
    "\n",
    "plt.legend(loc='lower left',fontsize='large')\n",
    "\n",
    "plt.axhline(0, color='k')\n",
    "ax.set_xlabel('Angle ($\\\\theta$)')\n",
    "ax.set_ylabel('R($\\\\theta$)')\n",
    "yt=np.linspace(-mxplot,mxplot,11)\n",
    "plt.yticks(yt)\n",
    "plt.xlim(0.,np.max(angle-1))\n",
    "plt.ylim(-mxplot,mxplot)\n",
    "plt.grid()\n",
    "\n",
    "ax2=plt.subplot(1,2,2)\n",
    "ax2.plot(I,G,'ro',markersize=10)\n",
    "ax2.plot(Ib,Gb,'go',markersize=10)\n",
    "ax2.axhline(0, color='k', lw=1), ax2.axvline(0, color='k', lw=1)\n",
    "ax2.set_xlabel('Intercept'), ax2.set_ylabel('Gradient')\n",
    "ax2.set_xlim(-mxplot,mxplot), ax2.set_ylim(-mxplot,mxplot)\n",
    "yt=np.linspace(-mxplot,mxplot,11)\n",
    "xt=np.linspace(-mxplot,mxplot,6)\n",
    "ax2.set_yticks(yt)\n",
    "ax2.set_xticks(xt)\n",
    "ax2.xaxis.set_label_position('bottom'), ax2.xaxis.tick_bottom()\n",
    "ax2.yaxis.set_label_position('right'), ax2.yaxis.tick_right()\n",
    "plt.text(-0.4,-0.37,'Top')\n",
    "plt.text(0.26,0.3,'Base')\n",
    "plt.tight_layout()"
   ]
  },
  {
   "cell_type": "code",
   "execution_count": null,
   "id": "6134cffc",
   "metadata": {},
   "outputs": [],
   "source": []
  },
  {
   "cell_type": "markdown",
   "id": "7f4ce040",
   "metadata": {},
   "source": [
    "## Plot de Refletividade, Wavelet e incidência Normal para o Offset Gather e Angle Gather:"
   ]
  },
  {
   "cell_type": "code",
   "execution_count": null,
   "id": "d89c57d7",
   "metadata": {},
   "outputs": [],
   "source": [
    "# DEFININCO COEFICIENTE DE REFLEXÃO:\n",
    "\n",
    "import numpy as np\n",
    "\n",
    "def reflect_coef(ip):\n",
    "    \"\"\"\n",
    "    Calcula o coeficiente de reflexão a partir da impedância acústica.\n",
    "\n",
    "    Args:\n",
    "        ip: Array com as impedâncias acústicas das camadas.\n",
    "\n",
    "    Returns:\n",
    "        Array com os coeficientes de reflexão.\n",
    "    \"\"\"\n",
    "    # Calcula a diferença entre as impedâncias adjacentes\n",
    "    diff_ip = np.diff(ip)\n",
    "\n",
    "    # Calcula a soma das impedâncias adjacentes\n",
    "    sum_ip = ip[:-1] + ip[1:]\n",
    "\n",
    "    # Calcula o coeficiente de reflexão\n",
    "    rc = diff_ip / sum_ip\n",
    "\n",
    "    return rc"
   ]
  },
  {
   "cell_type": "code",
   "execution_count": null,
   "id": "9567fb30",
   "metadata": {},
   "outputs": [],
   "source": [
    "# PLOT DE REFLETIVIDADE, WAVELET E INCIDÊNCIA NORMAL PARA O OFFSET GATHER E ANGLE GATHER:\n",
    "# CÓDIGO MODIFICADO:\n",
    "\n",
    "#define the new range of angles\n",
    "angle = np.arange(0,31,1)\n",
    "\n",
    "# the properties now will generate a log\n",
    "\n",
    "vp1 = np.zeros(170) + vp1 #m/s\n",
    "vs1 = np.zeros(170) + vs1\n",
    "rho1 = np.zeros(170) + rho1 #g/cc\n",
    "vp2 = np.zeros(170) + vp2 #m/s\n",
    "vs2 = np.zeros(170) + vs2\n",
    "rho2 = np.zeros(170) + rho2 #g/cc\n",
    "vp=np.concatenate((vp1,vp2,vp1))\n",
    "vs=np.concatenate((vs1,vs2,vs1))\n",
    "rho=np.concatenate((rho1,rho2,rho1))\n",
    "\n",
    "ip = vp*rho #impedance\n",
    "# rc= avo.reflect_coef(ip) # reflection coefficient - normal incidence\n",
    "rc= reflect_coef(ip) # reflection coefficient - normal incidence\n",
    "\n",
    "\n",
    "#define the ricker wavelet\n",
    "\n",
    "freq=25\n",
    "length = 0.255\n",
    "dt = 0.001\n",
    "#time,wavelet, _ = avo.ricker(freq, length, dt) #ricker em vez de rickerwave\n",
    "returned_values = avo.ricker(freq, length, dt)\n",
    "time = returned_values[0]\n",
    "wavelet = returned_values[1]\n",
    "\n",
    "\n",
    "#normal incidence offset gather\n",
    "NI=np.convolve(wavelet,rc,mode='same')\n",
    "\n",
    "#reflectivity on a interface\n",
    "reflect,r0,g=avo.shueyrc(vp,vs,rho,angle)\n",
    "'''ATRIBUTO SHUEYRC NÃO EXISTE'''\n",
    "\n",
    "#generate the angle gather\n",
    "anglegather=[]\n",
    "for i in range(len(angle)):\n",
    "  anglegather.append(np.convolve(wavelet,reflect[:,i],mode='same'))\n",
    "anglegather=np.asarray(anglegather).T\n",
    "time2=np.arange(0,(len(ip))*dt,dt)\n",
    "\n",
    "fig=plt.figure(figsize=(10,5))\n",
    "ax = plt.subplot(1,3,1)\n",
    "\n",
    "plt.title('RC')\n",
    "plt.plot(rc,time2,'k')\n",
    "ax.invert_yaxis()\n",
    "ax.set_ylabel('Time (ms)')\n",
    "ax.set_xlabel('Amplitude')\n",
    "plt.grid(True)\n",
    "\n",
    "ax = plt.subplot(1,3,2)\n",
    "plt.title('Wavelet')\n",
    "plt.plot(wavelet,time,'k')\n",
    "plt.fill_betweenx(time, wavelet, 0, wavelet > 0, color='k', alpha=1.0)\n",
    "ax.invert_yaxis()\n",
    "ax.set_ylabel('Time (ms)')\n",
    "ax.set_xlabel('Amplitude')\n",
    "plt.grid(True)\n",
    "\n",
    "ax = plt.subplot(1,3,3)\n",
    "plt.title('Synthetic')\n",
    "plt.plot(NI,time2,'k')\n",
    "plt.fill_betweenx(time2, NI, 0, NI > 0, color='k', alpha=1.0)\n",
    "ax.invert_yaxis()\n",
    "ax.set_ylabel('Time (ms)')\n",
    "ax.set_xlabel('Amplitude')\n",
    "plt.grid(True)\n",
    "plt.tight_layout()\n",
    "\n",
    "scale_factor=5. #this is scalable according to the plot\n",
    "anglegatherplt=anglegather*scale_factor #just for the plot\n",
    "fig=plt.figure(figsize=(5,7))\n",
    "ax = plt.subplot(1,1,1)\n",
    "plt.title('Angle gather')\n",
    "for i in range(len(angle)):\n",
    "  ax.plot(i+anglegatherplt[:,i],time2,'k',linewidth=1)\n",
    "  ax.fill_betweenx(time2,anglegatherplt[:,i]+i,i,\n",
    "where=anglegatherplt[:,i]+i>i,facecolor='black')\n",
    "ax.invert_yaxis()\n",
    "ax.set_xlabel('Angle ($\\\\theta$)')\n",
    "ax.set_ylabel('Time (ms)')\n",
    "plt.tight_layout()"
   ]
  },
  {
   "cell_type": "code",
   "execution_count": null,
   "id": "d3959474",
   "metadata": {},
   "outputs": [],
   "source": []
  },
  {
   "cell_type": "markdown",
   "id": "3c94bfec",
   "metadata": {},
   "source": [
    "## Usar mais duas Wavelets de Frequências Mais Baixas e Mais Altas repetindo o último passo:"
   ]
  },
  {
   "cell_type": "code",
   "execution_count": null,
   "id": "2bf527c6",
   "metadata": {},
   "outputs": [],
   "source": []
  }
 ],
 "metadata": {
  "kernelspec": {
   "display_name": "Python 3 (ipykernel)",
   "language": "python",
   "name": "python3"
  },
  "language_info": {
   "codemirror_mode": {
    "name": "ipython",
    "version": 3
   },
   "file_extension": ".py",
   "mimetype": "text/x-python",
   "name": "python",
   "nbconvert_exporter": "python",
   "pygments_lexer": "ipython3",
   "version": "3.9.13"
  }
 },
 "nbformat": 4,
 "nbformat_minor": 5
}
